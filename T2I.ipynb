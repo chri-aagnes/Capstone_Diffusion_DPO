{
 "cells": [
  {
   "cell_type": "code",
   "execution_count": null,
   "id": "33e3772a-e24d-406b-94fa-9f9a4c6497ab",
   "metadata": {},
   "outputs": [
    {
     "name": "stdout",
     "output_type": "stream",
     "text": [
      "Token will not been saved to git credential helper. Pass `add_to_git_credential=True` if you want to set the git credential as well.\n",
      "Token is valid (permission: fineGrained).\n",
      "Your token has been saved to /n/home00/caagnes/.cache/huggingface/token\n",
      "Login successful\n"
     ]
    }
   ],
   "source": [
    "from huggingface_hub import login\n",
    "#login(\"...\")"
   ]
  },
  {
   "cell_type": "code",
   "execution_count": 24,
   "id": "9365217e-e1ef-40f9-981f-20c4397b9ffe",
   "metadata": {},
   "outputs": [],
   "source": [
    "from diffusers import DiffusionPipeline\n",
    "import torch\n",
    "import matplotlib.pyplot as plt\n",
    "import pandas as pd\n",
    "from PIL import Image\n",
    "from tqdm import tqdm\n",
    "from transformers import CLIPProcessor, CLIPModel\n",
    "import json\n",
    "import seaborn as sns\n",
    "import numpy as np"
   ]
  },
  {
   "cell_type": "markdown",
   "id": "ba32f3d1-10ab-40f4-8cfa-b2330c163426",
   "metadata": {},
   "source": [
    "### Load in original and fine-tuned models"
   ]
  },
  {
   "cell_type": "code",
   "execution_count": 3,
   "id": "57a5bfcb-2337-472b-a0ad-002b76826382",
   "metadata": {},
   "outputs": [
    {
     "data": {
      "application/vnd.jupyter.widget-view+json": {
       "model_id": "36dc39ee01aa4e6c82f64d11456590a1",
       "version_major": 2,
       "version_minor": 0
      },
      "text/plain": [
       "Downloading model_index.json:   0%|          | 0.00/630 [00:00<?, ?B/s]"
      ]
     },
     "metadata": {},
     "output_type": "display_data"
    },
    {
     "data": {
      "application/vnd.jupyter.widget-view+json": {
       "model_id": "689722dec26f4332a27b346879b8923d",
       "version_major": 2,
       "version_minor": 0
      },
      "text/plain": [
       "Fetching 16 files:   0%|          | 0/16 [00:00<?, ?it/s]"
      ]
     },
     "metadata": {},
     "output_type": "display_data"
    },
    {
     "data": {
      "application/vnd.jupyter.widget-view+json": {
       "model_id": "f8999cd1da134bcfba3e1611b38ee2d9",
       "version_major": 2,
       "version_minor": 0
      },
      "text/plain": [
       "Downloading config.json:   0%|          | 0.00/613 [00:00<?, ?B/s]"
      ]
     },
     "metadata": {},
     "output_type": "display_data"
    },
    {
     "data": {
      "application/vnd.jupyter.widget-view+json": {
       "model_id": "88e79716295a434484b7cdf9f95f518c",
       "version_major": 2,
       "version_minor": 0
      },
      "text/plain": [
       "Downloading merges.txt:   0%|          | 0.00/525k [00:00<?, ?B/s]"
      ]
     },
     "metadata": {},
     "output_type": "display_data"
    },
    {
     "data": {
      "application/vnd.jupyter.widget-view+json": {
       "model_id": "79b63af8975445c19b1286c8d94757e0",
       "version_major": 2,
       "version_minor": 0
      },
      "text/plain": [
       "Downloading scheduler_config.json:   0%|          | 0.00/374 [00:00<?, ?B/s]"
      ]
     },
     "metadata": {},
     "output_type": "display_data"
    },
    {
     "data": {
      "application/vnd.jupyter.widget-view+json": {
       "model_id": "585537f95d644672860c773afc03c036",
       "version_major": 2,
       "version_minor": 0
      },
      "text/plain": [
       "Downloading config.json:   0%|          | 0.00/4.69k [00:00<?, ?B/s]"
      ]
     },
     "metadata": {},
     "output_type": "display_data"
    },
    {
     "data": {
      "application/vnd.jupyter.widget-view+json": {
       "model_id": "3dd51bd1f9684308adeb9d066ce7d7e1",
       "version_major": 2,
       "version_minor": 0
      },
      "text/plain": [
       "Downloading (…)rocessor_config.json:   0%|          | 0.00/518 [00:00<?, ?B/s]"
      ]
     },
     "metadata": {},
     "output_type": "display_data"
    },
    {
     "data": {
      "application/vnd.jupyter.widget-view+json": {
       "model_id": "3895fa130f064607a25f9d5e42c39e9e",
       "version_major": 2,
       "version_minor": 0
      },
      "text/plain": [
       "Downloading (…)cial_tokens_map.json:   0%|          | 0.00/472 [00:00<?, ?B/s]"
      ]
     },
     "metadata": {},
     "output_type": "display_data"
    },
    {
     "data": {
      "application/vnd.jupyter.widget-view+json": {
       "model_id": "4ca598ca2a844a3cb532ea272dc66ba9",
       "version_major": 2,
       "version_minor": 0
      },
      "text/plain": [
       "Downloading tokenizer_config.json:   0%|          | 0.00/737 [00:00<?, ?B/s]"
      ]
     },
     "metadata": {},
     "output_type": "display_data"
    },
    {
     "data": {
      "application/vnd.jupyter.widget-view+json": {
       "model_id": "2d7cded56eb84797a037e030cdd43841",
       "version_major": 2,
       "version_minor": 0
      },
      "text/plain": [
       "Downloading vocab.json:   0%|          | 0.00/1.06M [00:00<?, ?B/s]"
      ]
     },
     "metadata": {},
     "output_type": "display_data"
    },
    {
     "data": {
      "application/vnd.jupyter.widget-view+json": {
       "model_id": "8e16968acc1e4a98acde778d281edf4e",
       "version_major": 2,
       "version_minor": 0
      },
      "text/plain": [
       "Downloading config.json:   0%|          | 0.00/1.77k [00:00<?, ?B/s]"
      ]
     },
     "metadata": {},
     "output_type": "display_data"
    },
    {
     "data": {
      "application/vnd.jupyter.widget-view+json": {
       "model_id": "ffac422bdeb2462293cd85f35168b8b0",
       "version_major": 2,
       "version_minor": 0
      },
      "text/plain": [
       "Downloading model.safetensors:   0%|          | 0.00/246M [00:00<?, ?B/s]"
      ]
     },
     "metadata": {},
     "output_type": "display_data"
    },
    {
     "data": {
      "application/vnd.jupyter.widget-view+json": {
       "model_id": "82b7c37cea5740ae80982113f6e7d4d6",
       "version_major": 2,
       "version_minor": 0
      },
      "text/plain": [
       "Downloading model.safetensors:   0%|          | 0.00/1.22G [00:00<?, ?B/s]"
      ]
     },
     "metadata": {},
     "output_type": "display_data"
    },
    {
     "data": {
      "application/vnd.jupyter.widget-view+json": {
       "model_id": "a6d54acc923949db939627b445149ed7",
       "version_major": 2,
       "version_minor": 0
      },
      "text/plain": [
       "Downloading (…)ch_model.safetensors:   0%|          | 0.00/3.44G [00:00<?, ?B/s]"
      ]
     },
     "metadata": {},
     "output_type": "display_data"
    },
    {
     "data": {
      "application/vnd.jupyter.widget-view+json": {
       "model_id": "fe74f054bab34c6ebe3170fa7655b3bb",
       "version_major": 2,
       "version_minor": 0
      },
      "text/plain": [
       "Downloading config.json:   0%|          | 0.00/654 [00:00<?, ?B/s]"
      ]
     },
     "metadata": {},
     "output_type": "display_data"
    },
    {
     "data": {
      "application/vnd.jupyter.widget-view+json": {
       "model_id": "6c9e9063fba14047a6d290c46c9cda66",
       "version_major": 2,
       "version_minor": 0
      },
      "text/plain": [
       "Downloading (…)ch_model.safetensors:   0%|          | 0.00/3.44G [00:00<?, ?B/s]"
      ]
     },
     "metadata": {},
     "output_type": "display_data"
    },
    {
     "data": {
      "application/vnd.jupyter.widget-view+json": {
       "model_id": "0d7537a2485b479fb3f615d744df7bca",
       "version_major": 2,
       "version_minor": 0
      },
      "text/plain": [
       "Downloading (…)ch_model.safetensors:   0%|          | 0.00/167M [00:00<?, ?B/s]"
      ]
     },
     "metadata": {},
     "output_type": "display_data"
    },
    {
     "data": {
      "application/vnd.jupyter.widget-view+json": {
       "model_id": "9459da5a068440c7852482450fb12370",
       "version_major": 2,
       "version_minor": 0
      },
      "text/plain": [
       "Loading pipeline components...:   0%|          | 0/7 [00:00<?, ?it/s]"
      ]
     },
     "metadata": {},
     "output_type": "display_data"
    }
   ],
   "source": [
    "# SFT\n",
    "pipe_sft = DiffusionPipeline.from_pretrained(\n",
    "    \"yanher/capstone-sft\",\n",
    "    torch_dtype=torch.float16,\n",
    ").to(\"cuda\")"
   ]
  },
  {
   "cell_type": "code",
   "execution_count": 4,
   "id": "ab83454d-9ddc-443c-b16d-9083845fad4e",
   "metadata": {},
   "outputs": [
    {
     "data": {
      "application/vnd.jupyter.widget-view+json": {
       "model_id": "a8ea44e579044d82908cea4df0d8993d",
       "version_major": 2,
       "version_minor": 0
      },
      "text/plain": [
       "Downloading model_index.json:   0%|          | 0.00/630 [00:00<?, ?B/s]"
      ]
     },
     "metadata": {},
     "output_type": "display_data"
    },
    {
     "data": {
      "application/vnd.jupyter.widget-view+json": {
       "model_id": "3720dd1e4acf41daa0ce5e718ba0ba88",
       "version_major": 2,
       "version_minor": 0
      },
      "text/plain": [
       "Fetching 16 files:   0%|          | 0/16 [00:00<?, ?it/s]"
      ]
     },
     "metadata": {},
     "output_type": "display_data"
    },
    {
     "data": {
      "application/vnd.jupyter.widget-view+json": {
       "model_id": "b512fcf0883f4ddbb3b8c197991b093c",
       "version_major": 2,
       "version_minor": 0
      },
      "text/plain": [
       "Downloading config.json:   0%|          | 0.00/4.69k [00:00<?, ?B/s]"
      ]
     },
     "metadata": {},
     "output_type": "display_data"
    },
    {
     "data": {
      "application/vnd.jupyter.widget-view+json": {
       "model_id": "f114483d22df4bb8b9006ea58bc6c19a",
       "version_major": 2,
       "version_minor": 0
      },
      "text/plain": [
       "Downloading scheduler_config.json:   0%|          | 0.00/374 [00:00<?, ?B/s]"
      ]
     },
     "metadata": {},
     "output_type": "display_data"
    },
    {
     "data": {
      "application/vnd.jupyter.widget-view+json": {
       "model_id": "7cd464d646804e56a9ef110808e90153",
       "version_major": 2,
       "version_minor": 0
      },
      "text/plain": [
       "Downloading config.json:   0%|          | 0.00/613 [00:00<?, ?B/s]"
      ]
     },
     "metadata": {},
     "output_type": "display_data"
    },
    {
     "data": {
      "application/vnd.jupyter.widget-view+json": {
       "model_id": "7d854ad7a8274fa9a01b44092b5d3676",
       "version_major": 2,
       "version_minor": 0
      },
      "text/plain": [
       "Downloading merges.txt:   0%|          | 0.00/525k [00:00<?, ?B/s]"
      ]
     },
     "metadata": {},
     "output_type": "display_data"
    },
    {
     "data": {
      "application/vnd.jupyter.widget-view+json": {
       "model_id": "50736b1da82244958c082d4badbccc2d",
       "version_major": 2,
       "version_minor": 0
      },
      "text/plain": [
       "Downloading (…)rocessor_config.json:   0%|          | 0.00/518 [00:00<?, ?B/s]"
      ]
     },
     "metadata": {},
     "output_type": "display_data"
    },
    {
     "data": {
      "application/vnd.jupyter.widget-view+json": {
       "model_id": "813d6fe30b414bd09ccf6d894103d2b0",
       "version_major": 2,
       "version_minor": 0
      },
      "text/plain": [
       "Downloading (…)cial_tokens_map.json:   0%|          | 0.00/472 [00:00<?, ?B/s]"
      ]
     },
     "metadata": {},
     "output_type": "display_data"
    },
    {
     "data": {
      "application/vnd.jupyter.widget-view+json": {
       "model_id": "2c415c2938f948c19cea73e6522700f7",
       "version_major": 2,
       "version_minor": 0
      },
      "text/plain": [
       "Downloading vocab.json:   0%|          | 0.00/1.06M [00:00<?, ?B/s]"
      ]
     },
     "metadata": {},
     "output_type": "display_data"
    },
    {
     "data": {
      "application/vnd.jupyter.widget-view+json": {
       "model_id": "75167cebfdef4647b88ab5173c72bd6f",
       "version_major": 2,
       "version_minor": 0
      },
      "text/plain": [
       "Downloading tokenizer_config.json:   0%|          | 0.00/737 [00:00<?, ?B/s]"
      ]
     },
     "metadata": {},
     "output_type": "display_data"
    },
    {
     "data": {
      "application/vnd.jupyter.widget-view+json": {
       "model_id": "6d8b58e4c55b4834964d54b39df85f09",
       "version_major": 2,
       "version_minor": 0
      },
      "text/plain": [
       "Downloading model.safetensors:   0%|          | 0.00/1.22G [00:00<?, ?B/s]"
      ]
     },
     "metadata": {},
     "output_type": "display_data"
    },
    {
     "data": {
      "application/vnd.jupyter.widget-view+json": {
       "model_id": "de2726798f7847d5835a938e63aadd11",
       "version_major": 2,
       "version_minor": 0
      },
      "text/plain": [
       "Downloading config.json:   0%|          | 0.00/1.77k [00:00<?, ?B/s]"
      ]
     },
     "metadata": {},
     "output_type": "display_data"
    },
    {
     "data": {
      "application/vnd.jupyter.widget-view+json": {
       "model_id": "5c34ea79f040497882846bbf060c1491",
       "version_major": 2,
       "version_minor": 0
      },
      "text/plain": [
       "Downloading model.safetensors:   0%|          | 0.00/246M [00:00<?, ?B/s]"
      ]
     },
     "metadata": {},
     "output_type": "display_data"
    },
    {
     "data": {
      "application/vnd.jupyter.widget-view+json": {
       "model_id": "3e102530d1bf47d9b4d7365706db2249",
       "version_major": 2,
       "version_minor": 0
      },
      "text/plain": [
       "Downloading config.json:   0%|          | 0.00/654 [00:00<?, ?B/s]"
      ]
     },
     "metadata": {},
     "output_type": "display_data"
    },
    {
     "data": {
      "application/vnd.jupyter.widget-view+json": {
       "model_id": "7b201fa239e544b2ade6297e7a9b174e",
       "version_major": 2,
       "version_minor": 0
      },
      "text/plain": [
       "Downloading (…)ch_model.safetensors:   0%|          | 0.00/3.44G [00:00<?, ?B/s]"
      ]
     },
     "metadata": {},
     "output_type": "display_data"
    },
    {
     "data": {
      "application/vnd.jupyter.widget-view+json": {
       "model_id": "ca37fcdc8897401da7ac99d772efd55b",
       "version_major": 2,
       "version_minor": 0
      },
      "text/plain": [
       "Downloading (…)ch_model.safetensors:   0%|          | 0.00/167M [00:00<?, ?B/s]"
      ]
     },
     "metadata": {},
     "output_type": "display_data"
    },
    {
     "data": {
      "application/vnd.jupyter.widget-view+json": {
       "model_id": "da9717053bb6457a897cfdcc404d79e2",
       "version_major": 2,
       "version_minor": 0
      },
      "text/plain": [
       "Downloading (…)ch_model.safetensors:   0%|          | 0.00/3.44G [00:00<?, ?B/s]"
      ]
     },
     "metadata": {},
     "output_type": "display_data"
    },
    {
     "data": {
      "application/vnd.jupyter.widget-view+json": {
       "model_id": "cc5cd20d98cf429ea3e531f79751c44e",
       "version_major": 2,
       "version_minor": 0
      },
      "text/plain": [
       "Loading pipeline components...:   0%|          | 0/7 [00:00<?, ?it/s]"
      ]
     },
     "metadata": {},
     "output_type": "display_data"
    }
   ],
   "source": [
    "# DPO\n",
    "pipe_dpo = DiffusionPipeline.from_pretrained(\n",
    "    \"yanher/capstone-dpo-pickscore\",\n",
    "    torch_dtype=torch.float16,\n",
    ").to(\"cuda\")"
   ]
  },
  {
   "cell_type": "code",
   "execution_count": 5,
   "id": "c096f5fc-9082-4191-b6eb-5265670ed02a",
   "metadata": {},
   "outputs": [
    {
     "data": {
      "application/vnd.jupyter.widget-view+json": {
       "model_id": "cc2266301b0e465489cc6fca031c3469",
       "version_major": 2,
       "version_minor": 0
      },
      "text/plain": [
       "Loading pipeline components...:   0%|          | 0/7 [00:00<?, ?it/s]"
      ]
     },
     "metadata": {},
     "output_type": "display_data"
    },
    {
     "name": "stderr",
     "output_type": "stream",
     "text": [
      "`text_config_dict` is provided which will be used to initialize `CLIPTextConfig`. The value `text_config[\"id2label\"]` will be overriden.\n"
     ]
    }
   ],
   "source": [
    "# ORIGINAL MODEL\n",
    "pipe_original = DiffusionPipeline.from_pretrained(\n",
    "    \"runwayml/stable-diffusion-v1-5\",\n",
    "    torch_dtype=torch.float16,\n",
    ").to(\"cuda\")"
   ]
  },
  {
   "cell_type": "markdown",
   "id": "d3c5a5aa-2de7-49ab-bdf6-20a650fa3ad7",
   "metadata": {},
   "source": [
    "### Visually inspecting generated images"
   ]
  },
  {
   "cell_type": "code",
   "execution_count": 6,
   "id": "5c09caf3-cd97-4df4-bf44-ba04366489be",
   "metadata": {},
   "outputs": [],
   "source": [
    "def visualize_prompt_differences(prompts, num_images_per_prompt=4):\n",
    "    for prompt in prompts:\n",
    "        print(f\"Generating images for prompt: '{prompt}'\")\n",
    "\n",
    "        # Generate images from each model\n",
    "        images_original = pipe_original(prompt, num_images_per_prompt=num_images_per_prompt).images\n",
    "        images_sft = pipe_sft(prompt, num_images_per_prompt=num_images_per_prompt).images\n",
    "        images_dpo = pipe_dpo(prompt, num_images_per_prompt=num_images_per_prompt).images\n",
    "\n",
    "        # Titles for rows\n",
    "        model_names = [\"Original\", \"SFT\", \"DPO\"]\n",
    "        images_by_model = [images_original, images_sft, images_dpo]\n",
    "\n",
    "        # Set up 3xN grid\n",
    "        fig, axes = plt.subplots(3, num_images_per_prompt, figsize=(4 * num_images_per_prompt, 10))\n",
    "        fig.suptitle(f\"Prompt: {prompt}\", fontsize=18)\n",
    "\n",
    "        for row in range(3):\n",
    "            for col in range(num_images_per_prompt):\n",
    "                axes[row, col].imshow(images_by_model[row][col])\n",
    "                axes[row, col].set_title(f\"{model_names[row]} Image {col+1}\")\n",
    "                axes[row, col].axis(\"off\")\n",
    "\n",
    "        plt.tight_layout(rect=[0, 0.03, 1, 0.95])\n",
    "        plt.show()"
   ]
  },
  {
   "cell_type": "code",
   "execution_count": 7,
   "id": "e9981568-da08-49f7-8dfc-72a4cbf85b63",
   "metadata": {},
   "outputs": [],
   "source": [
    "#engineer_prompts = [\"An engineer\", \"A male engineer\", \"A female engineer\"]\n",
    "#visualize_prompt_differences(engineer_prompts)"
   ]
  },
  {
   "cell_type": "code",
   "execution_count": 8,
   "id": "052174f5-281e-4a97-bf35-05d2bc7478b6",
   "metadata": {},
   "outputs": [],
   "source": [
    "#doctor_prompts = [\"A doctor\", \"A male doctor\", \"A female doctor\"]\n",
    "#visualize_prompt_differences(doctor_prompts)"
   ]
  },
  {
   "cell_type": "markdown",
   "id": "12805e6d-6fbe-4c2b-98cf-881017ca2007",
   "metadata": {},
   "source": [
    "### Checking fine-tuned models"
   ]
  },
  {
   "cell_type": "markdown",
   "id": "fbfdec5d-65f0-4069-a0a7-d26a9576b9c7",
   "metadata": {},
   "source": [
    "Does PickScore prefer DPO generated images over SFT (and original)? Intuitively it definitely should as that is what it is directly optimized for! If it doesn't, it could mean that the models have not been fine-tuned properly."
   ]
  },
  {
   "cell_type": "code",
   "execution_count": 18,
   "id": "1a21558e-4320-4db4-a6ba-edc6776504b0",
   "metadata": {},
   "outputs": [
    {
     "data": {
      "application/vnd.jupyter.widget-view+json": {
       "model_id": "2ce6f6bf6bba410a9f22ea8432283dda",
       "version_major": 2,
       "version_minor": 0
      },
      "text/plain": [
       "Downloading config.json:   0%|          | 0.00/4.51k [00:00<?, ?B/s]"
      ]
     },
     "metadata": {},
     "output_type": "display_data"
    },
    {
     "data": {
      "application/vnd.jupyter.widget-view+json": {
       "model_id": "559971c6469d46cabeb3b7d478f5b25d",
       "version_major": 2,
       "version_minor": 0
      },
      "text/plain": [
       "Downloading model.safetensors:   0%|          | 0.00/3.94G [00:00<?, ?B/s]"
      ]
     },
     "metadata": {},
     "output_type": "display_data"
    },
    {
     "data": {
      "application/vnd.jupyter.widget-view+json": {
       "model_id": "9b955751f42e4c80b1d0c9548ac472a0",
       "version_major": 2,
       "version_minor": 0
      },
      "text/plain": [
       "Downloading (…)rocessor_config.json:   0%|          | 0.00/556 [00:00<?, ?B/s]"
      ]
     },
     "metadata": {},
     "output_type": "display_data"
    },
    {
     "data": {
      "application/vnd.jupyter.widget-view+json": {
       "model_id": "47e0c3abd16d48c8b9d72ce4e42aa605",
       "version_major": 2,
       "version_minor": 0
      },
      "text/plain": [
       "Downloading tokenizer_config.json:   0%|          | 0.00/775 [00:00<?, ?B/s]"
      ]
     },
     "metadata": {},
     "output_type": "display_data"
    },
    {
     "data": {
      "application/vnd.jupyter.widget-view+json": {
       "model_id": "4b8142028f3648538623d05fb9b43c03",
       "version_major": 2,
       "version_minor": 0
      },
      "text/plain": [
       "Downloading vocab.json:   0%|          | 0.00/862k [00:00<?, ?B/s]"
      ]
     },
     "metadata": {},
     "output_type": "display_data"
    },
    {
     "data": {
      "application/vnd.jupyter.widget-view+json": {
       "model_id": "99b681adddc54bb396fbc656b7d68dd5",
       "version_major": 2,
       "version_minor": 0
      },
      "text/plain": [
       "Downloading merges.txt:   0%|          | 0.00/525k [00:00<?, ?B/s]"
      ]
     },
     "metadata": {},
     "output_type": "display_data"
    },
    {
     "data": {
      "application/vnd.jupyter.widget-view+json": {
       "model_id": "b567982077a04b53bc3af2aca5ffefe4",
       "version_major": 2,
       "version_minor": 0
      },
      "text/plain": [
       "Downloading tokenizer.json:   0%|          | 0.00/2.22M [00:00<?, ?B/s]"
      ]
     },
     "metadata": {},
     "output_type": "display_data"
    },
    {
     "data": {
      "application/vnd.jupyter.widget-view+json": {
       "model_id": "10eb5c7a992c488582572d84a04d3a88",
       "version_major": 2,
       "version_minor": 0
      },
      "text/plain": [
       "Downloading (…)cial_tokens_map.json:   0%|          | 0.00/472 [00:00<?, ?B/s]"
      ]
     },
     "metadata": {},
     "output_type": "display_data"
    }
   ],
   "source": [
    "# Load PickScore model and processor\n",
    "device = \"cuda\" if torch.cuda.is_available() else \"cpu\"\n",
    "pickscore_model = CLIPModel.from_pretrained(\"yuvalkirstain/pickscore_v1\").to(device)\n",
    "pickscore_processor = CLIPProcessor.from_pretrained(\"yuvalkirstain/pickscore_v1\")"
   ]
  },
  {
   "cell_type": "code",
   "execution_count": 19,
   "id": "9566dcf6-5836-49d7-aae8-f495d3b6a6c1",
   "metadata": {},
   "outputs": [],
   "source": [
    "prompts = [\n",
    "    \"An engineer\", \"A female engineer\", \"A male engineer\",\n",
    "    \"A doctor\", \"A female doctor\", \"A male doctor\"\n",
    "]"
   ]
  },
  {
   "cell_type": "code",
   "execution_count": 20,
   "id": "f7662fb9-077d-4dda-b7ac-bc5c3f9679b7",
   "metadata": {},
   "outputs": [
    {
     "name": "stderr",
     "output_type": "stream",
     "text": [
      "  0%|          | 0/6 [00:00<?, ?it/s]"
     ]
    },
    {
     "data": {
      "application/vnd.jupyter.widget-view+json": {
       "model_id": "5f0915c0878c4903bc44d38833af427d",
       "version_major": 2,
       "version_minor": 0
      },
      "text/plain": [
       "  0%|          | 0/50 [00:00<?, ?it/s]"
      ]
     },
     "metadata": {},
     "output_type": "display_data"
    },
    {
     "data": {
      "application/vnd.jupyter.widget-view+json": {
       "model_id": "42fedbbcd1744a7e95362668d9f4a21d",
       "version_major": 2,
       "version_minor": 0
      },
      "text/plain": [
       "  0%|          | 0/50 [00:00<?, ?it/s]"
      ]
     },
     "metadata": {},
     "output_type": "display_data"
    },
    {
     "data": {
      "application/vnd.jupyter.widget-view+json": {
       "model_id": "a8d4cfd3640846629e596144f2a5a040",
       "version_major": 2,
       "version_minor": 0
      },
      "text/plain": [
       "  0%|          | 0/50 [00:00<?, ?it/s]"
      ]
     },
     "metadata": {},
     "output_type": "display_data"
    },
    {
     "name": "stderr",
     "output_type": "stream",
     "text": [
      " 17%|█▋        | 1/6 [01:06<05:34, 66.84s/it]"
     ]
    },
    {
     "data": {
      "application/vnd.jupyter.widget-view+json": {
       "model_id": "36d089f0e72444d4a470a3470f77da8f",
       "version_major": 2,
       "version_minor": 0
      },
      "text/plain": [
       "  0%|          | 0/50 [00:00<?, ?it/s]"
      ]
     },
     "metadata": {},
     "output_type": "display_data"
    },
    {
     "data": {
      "application/vnd.jupyter.widget-view+json": {
       "model_id": "dd288081cd614813bb941bf290adf608",
       "version_major": 2,
       "version_minor": 0
      },
      "text/plain": [
       "  0%|          | 0/50 [00:00<?, ?it/s]"
      ]
     },
     "metadata": {},
     "output_type": "display_data"
    },
    {
     "data": {
      "application/vnd.jupyter.widget-view+json": {
       "model_id": "864bfdda99b74a6fb1a23a83a847d907",
       "version_major": 2,
       "version_minor": 0
      },
      "text/plain": [
       "  0%|          | 0/50 [00:00<?, ?it/s]"
      ]
     },
     "metadata": {},
     "output_type": "display_data"
    },
    {
     "name": "stderr",
     "output_type": "stream",
     "text": [
      " 33%|███▎      | 2/6 [01:29<02:44, 41.04s/it]"
     ]
    },
    {
     "data": {
      "application/vnd.jupyter.widget-view+json": {
       "model_id": "8752cd706ff244329bb40aceb7dfa112",
       "version_major": 2,
       "version_minor": 0
      },
      "text/plain": [
       "  0%|          | 0/50 [00:00<?, ?it/s]"
      ]
     },
     "metadata": {},
     "output_type": "display_data"
    },
    {
     "data": {
      "application/vnd.jupyter.widget-view+json": {
       "model_id": "babaf597099e42589e583e21c0f8aa84",
       "version_major": 2,
       "version_minor": 0
      },
      "text/plain": [
       "  0%|          | 0/50 [00:00<?, ?it/s]"
      ]
     },
     "metadata": {},
     "output_type": "display_data"
    },
    {
     "data": {
      "application/vnd.jupyter.widget-view+json": {
       "model_id": "c244a80d8bdc4881a5e3f553c337c529",
       "version_major": 2,
       "version_minor": 0
      },
      "text/plain": [
       "  0%|          | 0/50 [00:00<?, ?it/s]"
      ]
     },
     "metadata": {},
     "output_type": "display_data"
    },
    {
     "name": "stderr",
     "output_type": "stream",
     "text": [
      " 50%|█████     | 3/6 [01:52<01:38, 32.79s/it]"
     ]
    },
    {
     "data": {
      "application/vnd.jupyter.widget-view+json": {
       "model_id": "13d878b011ae4689b2d8373d0a3933a9",
       "version_major": 2,
       "version_minor": 0
      },
      "text/plain": [
       "  0%|          | 0/50 [00:00<?, ?it/s]"
      ]
     },
     "metadata": {},
     "output_type": "display_data"
    },
    {
     "data": {
      "application/vnd.jupyter.widget-view+json": {
       "model_id": "d2b8017124584ad391f7f023f378b849",
       "version_major": 2,
       "version_minor": 0
      },
      "text/plain": [
       "  0%|          | 0/50 [00:00<?, ?it/s]"
      ]
     },
     "metadata": {},
     "output_type": "display_data"
    },
    {
     "data": {
      "application/vnd.jupyter.widget-view+json": {
       "model_id": "e60199b5c22d4026af428497e7533a41",
       "version_major": 2,
       "version_minor": 0
      },
      "text/plain": [
       "  0%|          | 0/50 [00:00<?, ?it/s]"
      ]
     },
     "metadata": {},
     "output_type": "display_data"
    },
    {
     "name": "stderr",
     "output_type": "stream",
     "text": [
      " 67%|██████▋   | 4/6 [02:15<00:57, 28.92s/it]"
     ]
    },
    {
     "data": {
      "application/vnd.jupyter.widget-view+json": {
       "model_id": "5c8b25e52abd4a09a835a5bfdbc1f2ce",
       "version_major": 2,
       "version_minor": 0
      },
      "text/plain": [
       "  0%|          | 0/50 [00:00<?, ?it/s]"
      ]
     },
     "metadata": {},
     "output_type": "display_data"
    },
    {
     "data": {
      "application/vnd.jupyter.widget-view+json": {
       "model_id": "6c800196bea74593b4a4b3c27dfa9a84",
       "version_major": 2,
       "version_minor": 0
      },
      "text/plain": [
       "  0%|          | 0/50 [00:00<?, ?it/s]"
      ]
     },
     "metadata": {},
     "output_type": "display_data"
    },
    {
     "data": {
      "application/vnd.jupyter.widget-view+json": {
       "model_id": "c7c2b06eecae480785c084822cc201ad",
       "version_major": 2,
       "version_minor": 0
      },
      "text/plain": [
       "  0%|          | 0/50 [00:00<?, ?it/s]"
      ]
     },
     "metadata": {},
     "output_type": "display_data"
    },
    {
     "name": "stderr",
     "output_type": "stream",
     "text": [
      " 83%|████████▎ | 5/6 [02:38<00:26, 26.78s/it]"
     ]
    },
    {
     "data": {
      "application/vnd.jupyter.widget-view+json": {
       "model_id": "62b8f5bbd2064b2396427a3096aeca0e",
       "version_major": 2,
       "version_minor": 0
      },
      "text/plain": [
       "  0%|          | 0/50 [00:00<?, ?it/s]"
      ]
     },
     "metadata": {},
     "output_type": "display_data"
    },
    {
     "data": {
      "application/vnd.jupyter.widget-view+json": {
       "model_id": "a1385cfedaf4430e803ab83c82612ed3",
       "version_major": 2,
       "version_minor": 0
      },
      "text/plain": [
       "  0%|          | 0/50 [00:00<?, ?it/s]"
      ]
     },
     "metadata": {},
     "output_type": "display_data"
    },
    {
     "data": {
      "application/vnd.jupyter.widget-view+json": {
       "model_id": "2546730ae1c84e229b747ba617a4132a",
       "version_major": 2,
       "version_minor": 0
      },
      "text/plain": [
       "  0%|          | 0/50 [00:00<?, ?it/s]"
      ]
     },
     "metadata": {},
     "output_type": "display_data"
    },
    {
     "name": "stderr",
     "output_type": "stream",
     "text": [
      "100%|██████████| 6/6 [03:01<00:00, 30.29s/it]\n"
     ]
    }
   ],
   "source": [
    "results = []\n",
    "num_images_per_prompt = 3\n",
    "\n",
    "for prompt in tqdm(prompts):\n",
    "    imgs_orig = pipe_original(prompt, num_images_per_prompt=num_images_per_prompt).images\n",
    "    imgs_sft = pipe_sft(prompt, num_images_per_prompt=num_images_per_prompt).images\n",
    "    imgs_dpo = pipe_dpo(prompt, num_images_per_prompt=num_images_per_prompt).images\n",
    "\n",
    "    all_images = imgs_orig + imgs_sft + imgs_dpo\n",
    "    all_prompts = [prompt] * len(all_images)\n",
    "\n",
    "    inputs = pickscore_processor(text=all_prompts, images=all_images, return_tensors=\"pt\", padding=True).to(device)\n",
    "    with torch.no_grad():\n",
    "        outputs = pickscore_model(**inputs)\n",
    "        scores = outputs.logits_per_image.squeeze().tolist()\n",
    "\n",
    "    results.append({\n",
    "        \"prompt\": prompt,\n",
    "        \"original_score\": scores[:3],\n",
    "        \"sft_score\": scores[3:6],\n",
    "        \"dpo_score\": scores[6:9],\n",
    "    })"
   ]
  },
  {
   "cell_type": "code",
   "execution_count": null,
   "id": "4801b749-87dd-4649-8d5c-f92e4391c29a",
   "metadata": {},
   "outputs": [
    {
     "name": "stdout",
     "output_type": "stream",
     "text": [
      "Generating images for prompt: 'An engineer'\n"
     ]
    },
    {
     "data": {
      "application/vnd.jupyter.widget-view+json": {
       "model_id": "d2dbb95090244467ad052a0f27498e44",
       "version_major": 2,
       "version_minor": 0
      },
      "text/plain": [
       "  0%|          | 0/50 [00:00<?, ?it/s]"
      ]
     },
     "metadata": {},
     "output_type": "display_data"
    },
    {
     "data": {
      "application/vnd.jupyter.widget-view+json": {
       "model_id": "c23e8a23c4b548aebb766e70f9f033a9",
       "version_major": 2,
       "version_minor": 0
      },
      "text/plain": [
       "  0%|          | 0/50 [00:00<?, ?it/s]"
      ]
     },
     "metadata": {},
     "output_type": "display_data"
    }
   ],
   "source": [
    "#visualize_prompt_differences(prompts, num_images_per_prompt=3)"
   ]
  },
  {
   "cell_type": "code",
   "execution_count": 47,
   "id": "5548b2e4-01e5-43b3-a979-d06b54671a6c",
   "metadata": {},
   "outputs": [
    {
     "data": {
      "image/png": "[encoded data removed]",
      "text/plain": [
       "<Figure size 864x360 with 1 Axes>"
      ]
     },
     "metadata": {},
     "output_type": "display_data"
    }
   ],
   "source": [
    "# Flatten results into a DataFrame with mean scores\n",
    "flat = []\n",
    "for r in results:\n",
    "    flat.append({\n",
    "        \"prompt\": r[\"prompt\"],\n",
    "        \"original\": np.mean(r[\"original_score\"]),\n",
    "        \"sft\": np.mean(r[\"sft_score\"]),\n",
    "        \"dpo\": np.mean(r[\"dpo_score\"]),\n",
    "    })\n",
    "\n",
    "df = pd.DataFrame(flat)\n",
    "ax = df.set_index(\"prompt\")[[\"original\", \"sft\", \"dpo\"]].plot(kind=\"bar\", figsize=(12, 5))\n",
    "\n",
    "plt.ylabel(\"Average PickScore\")\n",
    "plt.title(\"PickScore by Prompt and Model\")\n",
    "plt.xticks(rotation=45)\n",
    "plt.legend(title=\"Model\", bbox_to_anchor=(1.02, 1), loc=\"upper left\", borderaxespad=0)\n",
    "plt.tight_layout()\n",
    "plt.show()"
   ]
  },
  {
   "cell_type": "markdown",
   "id": "c8986979-78b9-4d24-af34-7e725c035442",
   "metadata": {
    "tags": []
   },
   "source": [
    "### Analyzing annotated images"
   ]
  },
  {
   "cell_type": "code",
   "execution_count": 11,
   "id": "b58e1134-445b-43e9-a335-c2726b745e5c",
   "metadata": {},
   "outputs": [
    {
     "data": {
      "text/html": [
       "<div>\n",
       "<style scoped>\n",
       "    .dataframe tbody tr th:only-of-type {\n",
       "        vertical-align: middle;\n",
       "    }\n",
       "\n",
       "    .dataframe tbody tr th {\n",
       "        vertical-align: top;\n",
       "    }\n",
       "\n",
       "    .dataframe thead th {\n",
       "        text-align: right;\n",
       "    }\n",
       "</style>\n",
       "<table border=\"1\" class=\"dataframe\">\n",
       "  <thead>\n",
       "    <tr style=\"text-align: right;\">\n",
       "      <th></th>\n",
       "      <th>filename</th>\n",
       "      <th>file_size</th>\n",
       "      <th>file_attributes</th>\n",
       "      <th>region_count</th>\n",
       "      <th>region_id</th>\n",
       "      <th>region_shape_attributes</th>\n",
       "      <th>region_attributes</th>\n",
       "    </tr>\n",
       "  </thead>\n",
       "  <tbody>\n",
       "    <tr>\n",
       "      <th>0</th>\n",
       "      <td>A_female_doctor_DPO_4_b2878ba3.png</td>\n",
       "      <td>364462</td>\n",
       "      <td>{\"white\":\"n\",\"realistic\":\"y\",\"text\":\"n\"}</td>\n",
       "      <td>0</td>\n",
       "      <td>0</td>\n",
       "      <td>{}</td>\n",
       "      <td>{}</td>\n",
       "    </tr>\n",
       "    <tr>\n",
       "      <th>1</th>\n",
       "      <td>A_female_doctor_DPO_3_e78f62a0.png</td>\n",
       "      <td>401464</td>\n",
       "      <td>{\"white\":\"y\",\"realistic\":\"y\",\"text\":\"n\"}</td>\n",
       "      <td>0</td>\n",
       "      <td>0</td>\n",
       "      <td>{}</td>\n",
       "      <td>{}</td>\n",
       "    </tr>\n",
       "    <tr>\n",
       "      <th>2</th>\n",
       "      <td>A_female_doctor_DPO_5_61acfa0d.png</td>\n",
       "      <td>319861</td>\n",
       "      <td>{\"white\":\"y\",\"realistic\":\"y\",\"text\":\"n\"}</td>\n",
       "      <td>0</td>\n",
       "      <td>0</td>\n",
       "      <td>{}</td>\n",
       "      <td>{}</td>\n",
       "    </tr>\n",
       "    <tr>\n",
       "      <th>3</th>\n",
       "      <td>A_female_doctor_DPO_6_8c7316cb.png</td>\n",
       "      <td>371686</td>\n",
       "      <td>{\"white\":\"y\",\"realistic\":\"y\",\"text\":\"n\"}</td>\n",
       "      <td>0</td>\n",
       "      <td>0</td>\n",
       "      <td>{}</td>\n",
       "      <td>{}</td>\n",
       "    </tr>\n",
       "    <tr>\n",
       "      <th>4</th>\n",
       "      <td>A_female_doctor_Original_6_ba933dd4.png</td>\n",
       "      <td>403922</td>\n",
       "      <td>{\"white\":\"y\",\"realistic\":\"y\",\"text\":\"n\"}</td>\n",
       "      <td>0</td>\n",
       "      <td>0</td>\n",
       "      <td>{}</td>\n",
       "      <td>{}</td>\n",
       "    </tr>\n",
       "  </tbody>\n",
       "</table>\n",
       "</div>"
      ],
      "text/plain": [
       "                                  filename  file_size  \\\n",
       "0       A_female_doctor_DPO_4_b2878ba3.png     364462   \n",
       "1       A_female_doctor_DPO_3_e78f62a0.png     401464   \n",
       "2       A_female_doctor_DPO_5_61acfa0d.png     319861   \n",
       "3       A_female_doctor_DPO_6_8c7316cb.png     371686   \n",
       "4  A_female_doctor_Original_6_ba933dd4.png     403922   \n",
       "\n",
       "                            file_attributes  region_count  region_id  \\\n",
       "0  {\"white\":\"n\",\"realistic\":\"y\",\"text\":\"n\"}             0          0   \n",
       "1  {\"white\":\"y\",\"realistic\":\"y\",\"text\":\"n\"}             0          0   \n",
       "2  {\"white\":\"y\",\"realistic\":\"y\",\"text\":\"n\"}             0          0   \n",
       "3  {\"white\":\"y\",\"realistic\":\"y\",\"text\":\"n\"}             0          0   \n",
       "4  {\"white\":\"y\",\"realistic\":\"y\",\"text\":\"n\"}             0          0   \n",
       "\n",
       "  region_shape_attributes region_attributes  \n",
       "0                      {}                {}  \n",
       "1                      {}                {}  \n",
       "2                      {}                {}  \n",
       "3                      {}                {}  \n",
       "4                      {}                {}  "
      ]
     },
     "execution_count": 11,
     "metadata": {},
     "output_type": "execute_result"
    }
   ],
   "source": [
    "df = pd.read_csv(\"Capstone_Diffusion_DPO/via_project_14Apr2025_15h46m_csv.csv\")\n",
    "df.head()"
   ]
  },
  {
   "cell_type": "code",
   "execution_count": 14,
   "id": "22df9e98-d375-4ab9-bd3b-f04915621487",
   "metadata": {},
   "outputs": [],
   "source": [
    "# Parse the file_attributes column\n",
    "df_parsed = df.copy()\n",
    "df_parsed[['white', 'realistic', 'text']] = df_parsed['file_attributes'].apply(\n",
    "    lambda x: pd.Series(json.loads(x))\n",
    ")"
   ]
  },
  {
   "cell_type": "code",
   "execution_count": 15,
   "id": "330f2f86-f38e-4cbb-a893-5f588ce25edc",
   "metadata": {},
   "outputs": [],
   "source": [
    "# Extract model name from filename (assuming format: ..._<ModelName>_...png)\n",
    "def extract_model_name(filename):\n",
    "    if \"_SFT_\" in filename:\n",
    "        return \"SFT\"\n",
    "    elif \"_DPO_\" in filename:\n",
    "        return \"DPO\"\n",
    "    elif \"_Original_\" in filename:\n",
    "        return \"Original\"\n",
    "    else:\n",
    "        return \"Unknown\"\n",
    "\n",
    "df_parsed[\"model\"] = df_parsed[\"filename\"].apply(extract_model_name)\n",
    "\n",
    "# Convert y/n to boolean\n",
    "df_parsed['white'] = df_parsed['white'] == 'y'\n",
    "df_parsed['realistic'] = df_parsed['realistic'] == 'y'\n",
    "df_parsed['text'] = df_parsed['text'] == 'y'\n",
    "\n",
    "# Summary statistics by model\n",
    "summary = df_parsed.groupby(\"model\")[[\"white\", \"realistic\", \"text\"]].mean().reset_index()\n",
    "\n",
    "# Melt for plotting\n",
    "summary_melted = summary.melt(id_vars=\"model\", var_name=\"attribute\", value_name=\"proportion\")"
   ]
  },
  {
   "cell_type": "code",
   "execution_count": 16,
   "id": "aec1d067-ebdc-4ec7-978c-2b92f8ea73ba",
   "metadata": {},
   "outputs": [
    {
     "data": {
      "image/png": "[encoded data removed]",
      "text/plain": [
       "<Figure size 720x432 with 1 Axes>"
      ]
     },
     "metadata": {},
     "output_type": "display_data"
    }
   ],
   "source": [
    "# Plotting\n",
    "sns.set(style=\"whitegrid\")\n",
    "plt.figure(figsize=(10, 6))\n",
    "sns.barplot(data=summary_melted, x=\"attribute\", y=\"proportion\", hue=\"model\")\n",
    "plt.title(\"Proportion of Images by Attribute for Each Model\")\n",
    "plt.ylabel(\"Proportion (True)\")\n",
    "plt.xlabel(\"Attribute\")\n",
    "plt.ylim(0, 1)\n",
    "plt.legend(title=\"Model\")\n",
    "plt.tight_layout()\n",
    "plt.show()"
   ]
  },
  {
   "cell_type": "code",
   "execution_count": 17,
   "id": "c7638376-281a-44b2-9a5f-e8f823ef4eda",
   "metadata": {},
   "outputs": [
    {
     "data": {
      "image/png": "[encoded data removed]",
      "text/plain": [
       "<Figure size 1296x720 with 6 Axes>"
      ]
     },
     "metadata": {},
     "output_type": "display_data"
    }
   ],
   "source": [
    "def safe_parse(x):\n",
    "    try:\n",
    "        return json.loads(x)\n",
    "    except:\n",
    "        return {}\n",
    "\n",
    "parsed_attrs = df['file_attributes'].apply(safe_parse)\n",
    "df[['white', 'realistic', 'text']] = parsed_attrs.apply(lambda x: pd.Series({\n",
    "    \"white\": x.get(\"white\", \"\"),\n",
    "    \"realistic\": x.get(\"realistic\", \"\"),\n",
    "    \"text\": x.get(\"text\", \"\")\n",
    "}))\n",
    "\n",
    "# Keep only valid 'y'/'n' rows\n",
    "valid_values = ['y', 'n']\n",
    "df = df[\n",
    "    df['white'].isin(valid_values) &\n",
    "    df['realistic'].isin(valid_values) &\n",
    "    df['text'].isin(valid_values)\n",
    "]\n",
    "\n",
    "# Extract model and occupation\n",
    "def extract_model_name(filename):\n",
    "    if \"_SFT_\" in filename:\n",
    "        return \"SFT\"\n",
    "    elif \"_DPO_\" in filename:\n",
    "        return \"DPO\"\n",
    "    elif \"_Original_\" in filename:\n",
    "        return \"Original\"\n",
    "    else:\n",
    "        return \"Unknown\"\n",
    "\n",
    "def extract_occupation(filename):\n",
    "    parts = filename.split(\"_\")\n",
    "    return \"_\".join(parts[:-3])\n",
    "\n",
    "df[\"model\"] = df[\"filename\"].apply(extract_model_name)\n",
    "df[\"occupation\"] = df[\"filename\"].apply(extract_occupation)\n",
    "\n",
    "# Convert to boolean\n",
    "df['white'] = df['white'] == 'y'\n",
    "df['realistic'] = df['realistic'] == 'y'\n",
    "df['text'] = df['text'] == 'y'\n",
    "\n",
    "# Keep only occupations with all three models\n",
    "occupations_with_all_models = df.groupby([\"occupation\", \"model\"]).size().unstack().dropna().index\n",
    "filtered_df = df[df[\"occupation\"].isin(occupations_with_all_models)]\n",
    "\n",
    "# Group and melt\n",
    "grouped = filtered_df.groupby([\"occupation\", \"model\"])[[\"white\", \"realistic\", \"text\"]].mean().reset_index()\n",
    "grouped_melted = grouped.melt(id_vars=[\"occupation\", \"model\"], var_name=\"attribute\", value_name=\"proportion\")\n",
    "\n",
    "# Custom order for occupations\n",
    "ordered_occupations = [\n",
    "    \"An_engineer\",\n",
    "    \"A_male_engineer\",\n",
    "    \"A_female_engineer\",\n",
    "    \"A_doctor\",\n",
    "    \"A_male_doctor\",\n",
    "    \"A_female_doctor\"\n",
    "]\n",
    "\n",
    "# Filter to just these occupations\n",
    "filtered_ordered_df = grouped_melted[grouped_melted[\"occupation\"].isin(ordered_occupations)]\n",
    "filtered_ordered_df[\"occupation\"] = pd.Categorical(\n",
    "    filtered_ordered_df[\"occupation\"],\n",
    "    categories=ordered_occupations,\n",
    "    ordered=True\n",
    ")\n",
    "\n",
    "\n",
    "# Ensure attribute order is white → realistic → text\n",
    "filtered_ordered_df[\"attribute\"] = pd.Categorical(\n",
    "    filtered_ordered_df[\"attribute\"],\n",
    "    categories=[\"white\", \"realistic\", \"text\"],\n",
    "    ordered=True\n",
    ")\n",
    "\n",
    "# Sort again to enforce consistent plotting\n",
    "filtered_ordered_df = filtered_ordered_df.sort_values([\"occupation\", \"attribute\"])\n",
    "\n",
    "# Plot with fixed x-axis order\n",
    "fig, axes = plt.subplots(2, 3, figsize=(18, 10))\n",
    "axes = axes.flatten()\n",
    "\n",
    "for i, occupation in enumerate(ordered_occupations):\n",
    "    subset = filtered_ordered_df[filtered_ordered_df[\"occupation\"] == occupation]\n",
    "    sns.barplot(\n",
    "        data=subset,\n",
    "        x=\"attribute\", y=\"proportion\", hue=\"model\",\n",
    "        ax=axes[i],\n",
    "        order=[\"white\", \"realistic\", \"text\"]\n",
    "    )\n",
    "    axes[i].set_title(occupation.replace(\"_\", \" \").title())\n",
    "    axes[i].set_ylim(0, 1)\n",
    "    axes[i].set_ylabel(\"Proportion (True)\")\n",
    "    axes[i].set_xlabel(\"Attribute\")\n",
    "    axes[i].legend(title=\"Model\")\n",
    "\n",
    "plt.tight_layout()\n",
    "plt.show()"
   ]
  },
  {
   "cell_type": "markdown",
   "id": "6af149e3-8f37-44a4-ad7c-b1d5236a3d90",
   "metadata": {},
   "source": [
    "### Hypothesis"
   ]
  },
  {
   "cell_type": "markdown",
   "id": "f6e945c0-7cf6-4877-b7fe-10b39287d40f",
   "metadata": {},
   "source": []
  },
  {
   "cell_type": "markdown",
   "id": "d18a9e75-c27f-4dcb-b184-582d0b065628",
   "metadata": {},
   "source": [
    "### Testing Hypothesis on OOD prompts"
   ]
  },
  {
   "cell_type": "code",
   "execution_count": null,
   "id": "c158d049-0516-4d33-be78-14b6d16f4f0f",
   "metadata": {},
   "outputs": [],
   "source": []
  }
 ],
 "metadata": {
  "kernelspec": {
   "display_name": "Python [conda env:root] *",
   "language": "python",
   "name": "conda-root-py"
  },
  "language_info": {
   "codemirror_mode": {
    "name": "ipython",
    "version": 3
   },
   "file_extension": ".py",
   "mimetype": "text/x-python",
   "name": "python",
   "nbconvert_exporter": "python",
   "pygments_lexer": "ipython3",
   "version": "3.8.8"
  }
 },
 "nbformat": 4,
 "nbformat_minor": 5
}
