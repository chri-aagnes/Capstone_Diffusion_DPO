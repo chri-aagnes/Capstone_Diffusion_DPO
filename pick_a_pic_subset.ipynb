{
  "nbformat": 4,
  "nbformat_minor": 0,
  "metadata": {
    "colab": {
      "provenance": []
    },
    "kernelspec": {
      "name": "python3",
      "display_name": "Python 3"
    },
    "language_info": {
      "name": "python"
    }
  },
  "cells": [
    {
      "cell_type": "code",
      "execution_count": null,
      "metadata": {
        "id": "xZfothjLNhBJ"
      },
      "outputs": [],
      "source": [
        "from datasets import load_dataset\n",
        "from PIL import Image\n",
        "import os\n",
        "from tqdm import tqdm\n",
        "from itertools import islice"
      ]
    },
    {
      "cell_type": "code",
      "source": [
        "# === Config ===\n",
        "output_dir = \"pickapic_pair_subset\"\n",
        "num_samples = 100\n",
        "\n",
        "# Create class folders: image_0 and image_1\n",
        "for class_label in [\"image_0\", \"image_1\"]:\n",
        "    os.makedirs(os.path.join(output_dir, class_label), exist_ok=True)\n",
        "\n",
        "# Load streamed dataset\n",
        "print(\"⏬ Streaming the dataset...\")\n",
        "dataset = load_dataset(\"yuvalkirstain/pickapic_v2\", split=\"train\", streaming=True)\n",
        "subset = islice(dataset, num_samples)"
      ],
      "metadata": {
        "id": "gp_GZzonNjju"
      },
      "execution_count": null,
      "outputs": []
    },
    {
      "cell_type": "code",
      "source": [
        "import io  # Add this at the top with your imports\n",
        "\n",
        "# Save both images from each pair using 'jpg_0' and 'jpg_1'\n",
        "print(f\"💾 Saving {num_samples} samples with both jpg images per sample...\")\n",
        "for idx, sample in tqdm(enumerate(subset), total=num_samples):\n",
        "    for image_idx in [0, 1]:\n",
        "        image_bytes = sample[f\"jpg_{image_idx}\"]\n",
        "        image = Image.open(io.BytesIO(image_bytes)).convert(\"RGB\")  # <- convert bytes to image\n",
        "\n",
        "        class_folder = os.path.join(output_dir, f\"image_{image_idx}\")\n",
        "        image.save(os.path.join(class_folder, f\"sample_{idx}_{image_idx}.jpg\"))\n",
        "\n",
        "print(\"Done!\")\n"
      ],
      "metadata": {
        "id": "lyyrEbYnNmfL"
      },
      "execution_count": null,
      "outputs": []
    }
  ]
}